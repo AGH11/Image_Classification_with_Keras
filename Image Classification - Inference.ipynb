{
 "cells": [
  {
   "cell_type": "markdown",
   "id": "5a46ddb6-fe90-455e-8fb4-2d8dd56f20fd",
   "metadata": {},
   "source": [
    "#### Importing necessary libraries\n"
   ]
  },
  {
   "cell_type": "code",
   "execution_count": 1,
   "id": "fc247e7d-3493-41ad-b38b-2af4a0cb781f",
   "metadata": {},
   "outputs": [],
   "source": [
    "from keras.models import model_from_json\n",
    "from pathlib import Path\n",
    "from keras.preprocessing import image\n",
    "import numpy as np"
   ]
  },
  {
   "cell_type": "markdown",
   "id": "ce22d249-e32d-4071-b0ab-06afd2422464",
   "metadata": {},
   "source": [
    "#### These are the CIFAR10 class labels from the training data (in order from 0 to 9)"
   ]
  },
  {
   "cell_type": "code",
   "execution_count": 2,
   "id": "d2b73c7d-4492-49da-86d0-a64ce727b9c7",
   "metadata": {},
   "outputs": [],
   "source": [
    "class_labels = [\n",
    "    \"Plane\",\n",
    "    \"Car\",\n",
    "    \"Bird\",\n",
    "    \"Cat\",\n",
    "    \"Deer\",\n",
    "    \"Dog\",\n",
    "    \"Frog\",\n",
    "    \"Horse\",\n",
    "    \"Boat\",\n",
    "    \"Truck\"\n",
    "]"
   ]
  },
  {
   "cell_type": "markdown",
   "id": "5453cbd6-5fa4-4ff5-b854-2464988c57a8",
   "metadata": {},
   "source": [
    "#### Load the json file that contains the model's structure"
   ]
  },
  {
   "cell_type": "code",
   "execution_count": 3,
   "id": "8e865dd5-e745-4f94-a9bc-ddeae6da992d",
   "metadata": {},
   "outputs": [],
   "source": [
    "f = Path('model_structure.json')\n",
    "model_structure = f.read_text()"
   ]
  },
  {
   "cell_type": "markdown",
   "id": "364deefc-361a-4b81-b0d2-443e0510ee3a",
   "metadata": {},
   "source": [
    "#### Recreate the Keras model object from the json data"
   ]
  },
  {
   "cell_type": "code",
   "execution_count": 4,
   "id": "d3166d76-60d3-46ed-a33b-da19d95d7bc1",
   "metadata": {},
   "outputs": [],
   "source": [
    "model = model_from_json(model_structure)"
   ]
  },
  {
   "cell_type": "markdown",
   "id": "4d1d8941-6de1-4643-9c5a-96f542776af3",
   "metadata": {},
   "source": [
    "#### Re-load the model's trained weights\n"
   ]
  },
  {
   "cell_type": "code",
   "execution_count": 5,
   "id": "f16d1317-6e7d-46b5-8736-54eefb363c01",
   "metadata": {},
   "outputs": [],
   "source": [
    "model.load_weights('model_weights.h5')"
   ]
  },
  {
   "cell_type": "markdown",
   "id": "28f66cc2-c766-4208-ba2d-7fb7b01d8fe1",
   "metadata": {},
   "source": [
    "#### Load an image file to test, resizing it to 32x32 pixels (as required by this model)"
   ]
  },
  {
   "cell_type": "code",
   "execution_count": 6,
   "id": "d3e01fe0-9ccf-45eb-90e4-f2730d7221d4",
   "metadata": {},
   "outputs": [],
   "source": [
    "img = image.load_img('frog.png', target_size=(32, 32))"
   ]
  },
  {
   "cell_type": "markdown",
   "id": "3730ebe9-0c86-40c9-bf52-6d5f5c3cfe76",
   "metadata": {},
   "source": [
    "#### Convert the image to a numpy array"
   ]
  },
  {
   "cell_type": "code",
   "execution_count": 7,
   "id": "c0d78264-3397-4e82-9217-04c4fec7092c",
   "metadata": {},
   "outputs": [],
   "source": [
    "image_to_test = image.img_to_array(img)"
   ]
  },
  {
   "cell_type": "markdown",
   "id": "ec2002a6-0866-43ce-949f-d10ae87857ac",
   "metadata": {},
   "source": [
    "#### Add a fourth dimension to the image (since Keras expects a list of images, not a single image)"
   ]
  },
  {
   "cell_type": "code",
   "execution_count": 8,
   "id": "7ba5c11b-c40d-47f1-a75d-58ffef0de925",
   "metadata": {},
   "outputs": [],
   "source": [
    "list_of_images = np.expand_dims(image_to_test, axis=0)"
   ]
  },
  {
   "cell_type": "markdown",
   "id": "77312a53-e7a5-46d7-8f50-694216105014",
   "metadata": {},
   "source": [
    "#### Make a prediction using the model"
   ]
  },
  {
   "cell_type": "code",
   "execution_count": 9,
   "id": "243df6a6-068f-4136-8d29-8eec73e4bdf7",
   "metadata": {},
   "outputs": [
    {
     "name": "stdout",
     "output_type": "stream",
     "text": [
      "1/1 [==============================] - 0s 215ms/step\n"
     ]
    }
   ],
   "source": [
    "results = model.predict(list_of_images)"
   ]
  },
  {
   "cell_type": "markdown",
   "id": "aea61426-ffa0-49ff-b6de-82be70800eb0",
   "metadata": {},
   "source": [
    "#### Since we are only testing one image, we only need to check the first result"
   ]
  },
  {
   "cell_type": "code",
   "execution_count": 10,
   "id": "8458697d-7356-4c8f-a8b0-723ff4301cb0",
   "metadata": {},
   "outputs": [],
   "source": [
    "single_result = results[0]"
   ]
  },
  {
   "cell_type": "markdown",
   "id": "5d1a9077-ddf6-49fa-ae10-7b03f5dad2c4",
   "metadata": {},
   "source": [
    "#### We will get a likelihood score for all 10 possible classes. Find out which class had the highest score.\n"
   ]
  },
  {
   "cell_type": "code",
   "execution_count": 11,
   "id": "402c93bd-6d31-431c-9cae-0c4189eebe47",
   "metadata": {},
   "outputs": [],
   "source": [
    "most_likely_class_index = int(np.argmax(single_result))\n",
    "class_likelihood = single_result[most_likely_class_index]"
   ]
  },
  {
   "cell_type": "markdown",
   "id": "39e803a0-e286-42fa-8e2b-31707ef2c2e3",
   "metadata": {},
   "source": [
    "#### Get the name of the most likley class"
   ]
  },
  {
   "cell_type": "code",
   "execution_count": 12,
   "id": "0066be7d-e37e-414e-b3fa-e26fe852a7c6",
   "metadata": {},
   "outputs": [],
   "source": [
    "class_label = class_labels[most_likely_class_index]"
   ]
  },
  {
   "cell_type": "markdown",
   "id": "581daa89-0b0e-42e7-b1d0-23d41d413996",
   "metadata": {},
   "source": [
    "#### Print the results"
   ]
  },
  {
   "cell_type": "code",
   "execution_count": 13,
   "id": "b47db1c0-1ae0-4ccd-b89d-d6f937b29431",
   "metadata": {},
   "outputs": [
    {
     "name": "stdout",
     "output_type": "stream",
     "text": [
      "This is image is a Frog - Likelihood: 1.000000\n"
     ]
    }
   ],
   "source": [
    "print(\"This is image is a {} - Likelihood: {:2f}\".format(class_label, class_likelihood))"
   ]
  }
 ],
 "metadata": {
  "kernelspec": {
   "display_name": "Python 3 (ipykernel)",
   "language": "python",
   "name": "python3"
  },
  "language_info": {
   "codemirror_mode": {
    "name": "ipython",
    "version": 3
   },
   "file_extension": ".py",
   "mimetype": "text/x-python",
   "name": "python",
   "nbconvert_exporter": "python",
   "pygments_lexer": "ipython3",
   "version": "3.11.3"
  }
 },
 "nbformat": 4,
 "nbformat_minor": 5
}
