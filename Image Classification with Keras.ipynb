{
 "cells": [
  {
   "cell_type": "markdown",
   "id": "d5696eec-cc0d-492b-92bd-65fab1c12b12",
   "metadata": {},
   "source": [
    "#### Importing necessary libraries"
   ]
  },
  {
   "cell_type": "code",
   "execution_count": null,
   "id": "758547d2-ebed-4583-9f94-3ac10a1b5828",
   "metadata": {},
   "outputs": [],
   "source": [
    "import keras\n",
    "from keras.datasets import cifar10\n",
    "from keras.models import Sequential\n",
    "from keras.layers import Dense, Dropout, Flatten, Conv2D, MaxPooling2D\n",
    "from pathlib import Path"
   ]
  },
  {
   "cell_type": "markdown",
   "id": "4cdc454c-19ea-4818-bf26-5a6e82b96bdb",
   "metadata": {},
   "source": [
    "#### Load data set"
   ]
  },
  {
   "cell_type": "code",
   "execution_count": null,
   "id": "e0ac666e-070e-433b-b3a8-b425361d586f",
   "metadata": {},
   "outputs": [],
   "source": [
    "(x_train, y_train), (x_test, y_test) = cifar10.load_data()"
   ]
  },
  {
   "cell_type": "markdown",
   "id": "1dc693a5-a1b7-423d-be0c-f79f59f455cc",
   "metadata": {},
   "source": [
    "#### Normalize data set to 0-to-1 range"
   ]
  },
  {
   "cell_type": "code",
   "execution_count": null,
   "id": "1ba33674",
   "metadata": {},
   "outputs": [],
   "source": [
    "x_train = x_train.astype('float32')\n",
    "x_test = x_test.astype('float32')"
   ]
  },
  {
   "cell_type": "code",
   "execution_count": null,
   "id": "564250b3",
   "metadata": {},
   "outputs": [],
   "source": [
    "x_train /= 255\n",
    "x_test /= 255"
   ]
  },
  {
   "cell_type": "markdown",
   "id": "01847d98-8766-4482-8860-dc581534830f",
   "metadata": {},
   "source": [
    "#### Convert class vectors to binary class matrices"
   ]
  },
  {
   "cell_type": "code",
   "execution_count": null,
   "id": "44b9a9d9",
   "metadata": {},
   "outputs": [],
   "source": [
    "y_train = keras.utils.to_categorical(y_train, 10)\n",
    "y_test = keras.utils.to_categorical(y_test, 10)"
   ]
  },
  {
   "cell_type": "markdown",
   "id": "d990c37e-0113-4a13-903f-14f96289b701",
   "metadata": {},
   "source": [
    "#### Create a model and add layers"
   ]
  },
  {
   "cell_type": "code",
   "execution_count": null,
   "id": "d9cc0e1f-45b1-40a4-853c-cedd22828ef1",
   "metadata": {},
   "outputs": [],
   "source": [
    "model = Sequential()\n",
    "\n",
    "model.add(Conv2D(32, (3, 3), padding='same', input_shape=(32, 32, 3), activation='relu'))\n",
    "model.add(Conv2D(32, (3, 3), activation='relu'))\n",
    "model.add(MaxPooling2D(pool_size=(2, 2)))\n",
    "model.add(Dropout(0.25))\n",
    "\n",
    "model.add(Conv2D(64, (3, 3), padding='same', activation='relu'))\n",
    "model.add(Conv2D(64, (3, 3), activation='relu'))\n",
    "model.add(MaxPooling2D(pool_size=(2, 2)))\n",
    "model.add(Dropout(0.25))\n",
    "\n",
    "model.add(Flatten())\n",
    "model.add(Dense(512, activation='relu'))\n",
    "model.add(Dense(10, activation='softmax'))"
   ]
  },
  {
   "cell_type": "markdown",
   "id": "9f61c411-8f3a-464f-9572-67fcc839b2a0",
   "metadata": {},
   "source": [
    "#### Print a summary of the model"
   ]
  },
  {
   "cell_type": "code",
   "execution_count": null,
   "id": "7f58caaf-84d5-4c7f-8b4a-02007401802a",
   "metadata": {},
   "outputs": [],
   "source": [
    "model.summary()"
   ]
  },
  {
   "cell_type": "markdown",
   "id": "13b0dc9f-45cb-4240-9b35-59e30b17d737",
   "metadata": {},
   "source": [
    "#### Compile the model"
   ]
  },
  {
   "cell_type": "code",
   "execution_count": null,
   "id": "e66ef417-f169-4c0d-9d04-938f90bca189",
   "metadata": {},
   "outputs": [],
   "source": [
    "model.compile(\n",
    "    loss='categorical_crossentropy',\n",
    "    optimizer='adam',\n",
    "    metrics=['accuracy']\n",
    ")"
   ]
  },
  {
   "cell_type": "markdown",
   "id": "19aae484-f6b9-43ad-bc07-8ccea9985361",
   "metadata": {},
   "source": [
    "#### Train the model"
   ]
  },
  {
   "cell_type": "code",
   "execution_count": null,
   "id": "36bfd0b1-0535-4fea-b7bb-f1bfe6926ce5",
   "metadata": {
    "scrolled": true
   },
   "outputs": [],
   "source": [
    "model.fit(\n",
    "    x_train,\n",
    "    y_train,\n",
    "    batch_size=64,\n",
    "    epochs=30,\n",
    "    validation_data=(x_test, y_test),\n",
    "    shuffle=True\n",
    ")"
   ]
  },
  {
   "cell_type": "markdown",
   "id": "c9fb6a76-fadb-4582-98fa-f65a2fe06d0c",
   "metadata": {},
   "source": [
    "#### Save neural network structure"
   ]
  },
  {
   "cell_type": "code",
   "execution_count": null,
   "id": "1fa5139c-57e5-49d5-8e6f-3d3b3b275886",
   "metadata": {},
   "outputs": [],
   "source": [
    "model_structure = model.to_json()\n",
    "f = Path('model_structure.json')\n",
    "f.write_text(model_structure)"
   ]
  },
  {
   "cell_type": "markdown",
   "id": "3b41469b-a45f-4804-b56e-8ec65898fed6",
   "metadata": {},
   "source": [
    "#### Save neural network's trained weights"
   ]
  },
  {
   "cell_type": "code",
   "execution_count": null,
   "id": "16d01690-0d61-46df-b6e0-6a38a8aa9543",
   "metadata": {},
   "outputs": [],
   "source": [
    "model.save_weights('model_weights.h5')"
   ]
  }
 ],
 "metadata": {
  "kernelspec": {
   "display_name": "Python 3 (ipykernel)",
   "language": "python",
   "name": "python3"
  },
  "language_info": {
   "codemirror_mode": {
    "name": "ipython",
    "version": 3
   },
   "file_extension": ".py",
   "mimetype": "text/x-python",
   "name": "python",
   "nbconvert_exporter": "python",
   "pygments_lexer": "ipython3",
   "version": "3.11.3"
  }
 },
 "nbformat": 4,
 "nbformat_minor": 5
}
